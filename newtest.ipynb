{
 "cells": [
  {
   "cell_type": "code",
   "execution_count": 1,
   "metadata": {},
   "outputs": [],
   "source": [
    "import start"
   ]
  },
  {
   "cell_type": "code",
   "execution_count": 2,
   "metadata": {},
   "outputs": [
    {
     "ename": "KeyError",
     "evalue": "'value'",
     "output_type": "error",
     "traceback": [
      "\u001b[1;31m---------------------------------------------------------------------------\u001b[0m",
      "\u001b[1;31mKeyError\u001b[0m                                  Traceback (most recent call last)",
      "Cell \u001b[1;32mIn[2], line 3\u001b[0m\n\u001b[0;32m      1\u001b[0m basedict \u001b[39m=\u001b[39m {}\n\u001b[0;32m      2\u001b[0m affected_products \u001b[39m=\u001b[39m \u001b[39mset\u001b[39m()\n\u001b[1;32m----> 3\u001b[0m \u001b[39mfor\u001b[39;00m item \u001b[39min\u001b[39;00m basedict[\u001b[39m'\u001b[39;49m\u001b[39mvalue\u001b[39;49m\u001b[39m'\u001b[39;49m]:\n\u001b[0;32m      4\u001b[0m     affected_products \u001b[39m=\u001b[39m affected_products\u001b[39m.\u001b[39munion(item[\u001b[39m'\u001b[39m\u001b[39maffected_products\u001b[39m\u001b[39m'\u001b[39m])\n",
      "\u001b[1;31mKeyError\u001b[0m: 'value'"
     ]
    }
   ],
   "source": [
    "basedict = {}\n",
    "affected_products = set()\n",
    "for item in basedict['value']:\n",
    "    affected_products = affected_products.union(item['affected_products'])"
   ]
  },
  {
   "cell_type": "code",
   "execution_count": 4,
   "metadata": {},
   "outputs": [
    {
     "name": "stderr",
     "output_type": "stream",
     "text": [
      "C:\\Users\\lbartels\\AppData\\Local\\Packages\\PythonSoftwareFoundation.Python.3.11_qbz5n2kfra8p0\\LocalCache\\local-packages\\Python311\\site-packages\\urllib3\\connectionpool.py:1045: InsecureRequestWarning: Unverified HTTPS request is being made to host 'isec.lab.de'. Adding certificate verification is strongly advised. See: https://urllib3.readthedocs.io/en/1.26.x/advanced-usage.html#ssl-warnings\n",
      "  warnings.warn(\n",
      "C:\\Users\\lbartels\\AppData\\Local\\Packages\\PythonSoftwareFoundation.Python.3.11_qbz5n2kfra8p0\\LocalCache\\local-packages\\Python311\\site-packages\\urllib3\\connectionpool.py:1045: InsecureRequestWarning: Unverified HTTPS request is being made to host 'isec.lab.de'. Adding certificate verification is strongly advised. See: https://urllib3.readthedocs.io/en/1.26.x/advanced-usage.html#ssl-warnings\n",
      "  warnings.warn(\n",
      "C:\\Users\\lbartels\\AppData\\Local\\Packages\\PythonSoftwareFoundation.Python.3.11_qbz5n2kfra8p0\\LocalCache\\local-packages\\Python311\\site-packages\\urllib3\\connectionpool.py:1045: InsecureRequestWarning: Unverified HTTPS request is being made to host 'isec.lab.de'. Adding certificate verification is strongly advised. See: https://urllib3.readthedocs.io/en/1.26.x/advanced-usage.html#ssl-warnings\n",
      "  warnings.warn(\n"
     ]
    },
    {
     "data": {
      "text/plain": [
       "[{'00001010-0000-0000-0000-000000000000',\n",
       "  '00001011-0000-0000-0000-000000000000',\n",
       "  '00001012-0000-0000-0000-000000000000',\n",
       "  '00001013-0000-0000-0000-000000000000',\n",
       "  '00001014-0000-0000-0000-000000000000',\n",
       "  '00001015-0000-0000-0000-000000000000',\n",
       "  '00001023-0000-0000-0000-000000000000',\n",
       "  '00001ccf-0000-0000-0000-000000000000',\n",
       "  '00001cd0-0000-0000-0000-000000000000',\n",
       "  '00001cd1-0000-0000-0000-000000000000',\n",
       "  '00001cd2-0000-0000-0000-000000000000',\n",
       "  '00001cd4-0000-0000-0000-000000000000',\n",
       "  '00001cd5-0000-0000-0000-000000000000',\n",
       "  '00001cd6-0000-0000-0000-000000000000',\n",
       "  '000026c6-0000-0000-0000-000000000000',\n",
       "  '00003f1e-0000-0000-0000-000000000000',\n",
       "  '00003f1f-0000-0000-0000-000000000000',\n",
       "  '00003f20-0000-0000-0000-000000000000',\n",
       "  '00003f21-0000-0000-0000-000000000000',\n",
       "  '00003f22-0000-0000-0000-000000000000',\n",
       "  '00003f23-0000-0000-0000-000000000000',\n",
       "  '00003f24-0000-0000-0000-000000000000',\n",
       "  '0000430d-0000-0000-0000-000000000000',\n",
       "  '0000430f-0000-0000-0000-000000000000',\n",
       "  '00004310-0000-0000-0000-000000000000',\n",
       "  '000047e9-0000-0000-0000-000000000000',\n",
       "  '000047ea-0000-0000-0000-000000000000',\n",
       "  '000047eb-0000-0000-0000-000000000000',\n",
       "  '000047ec-0000-0000-0000-000000000000',\n",
       "  '000047ed-0000-0000-0000-000000000000',\n",
       "  '000047ee-0000-0000-0000-000000000000',\n",
       "  '00006097-0000-0000-0000-000000000000',\n",
       "  '00006098-0000-0000-0000-000000000000',\n",
       "  '00006099-0000-0000-0000-000000000000',\n",
       "  '0000609a-0000-0000-0000-000000000000',\n",
       "  '0000609b-0000-0000-0000-000000000000',\n",
       "  '0000609c-0000-0000-0000-000000000000',\n",
       "  '0000633e-0000-0000-0000-000000000000'}]"
      ]
     },
     "execution_count": 4,
     "metadata": {},
     "output_type": "execute_result"
    }
   ],
   "source": [
    "product_versions_server = [\"Windows Server 2012\", \"Windows Server 2012 R2\", \"Windows Server 2016\", \"Windows Server 2019\", \"Windows Server 2022\", \"Windows Server Semi-Annual Channel\"]\n",
    "start.get_version_uuids_microsoft(product_versions_server)"
   ]
  }
 ],
 "metadata": {
  "kernelspec": {
   "display_name": "Python 3",
   "language": "python",
   "name": "python3"
  },
  "language_info": {
   "codemirror_mode": {
    "name": "ipython",
    "version": 3
   },
   "file_extension": ".py",
   "mimetype": "text/x-python",
   "name": "python",
   "nbconvert_exporter": "python",
   "pygments_lexer": "ipython3",
   "version": "3.11.2"
  },
  "orig_nbformat": 4
 },
 "nbformat": 4,
 "nbformat_minor": 2
}
